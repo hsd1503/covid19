{
 "cells": [
  {
   "cell_type": "code",
   "execution_count": 26,
   "metadata": {},
   "outputs": [
    {
     "name": "stdout",
     "output_type": "stream",
     "text": [
      "(264, 85) (264, 85) (250, 85)\n",
      "(264, 81, 3)\n"
     ]
    }
   ],
   "source": [
    "import pandas as pd\n",
    "import numpy as np\n",
    "\n",
    "confirmed_global = pd.read_csv('COVID-19/csse_covid_19_data/csse_covid_19_time_series/time_series_covid19_confirmed_global.csv')\n",
    "deaths_global = pd.read_csv('COVID-19/csse_covid_19_data/csse_covid_19_time_series/time_series_covid19_deaths_global.csv')\n",
    "recovered_global = pd.read_csv('COVID-19/csse_covid_19_data/csse_covid_19_time_series/time_series_covid19_recovered_global.csv')\n",
    "print(confirmed_global.shape, deaths_global.shape, recovered_global.shape)\n",
    "\n",
    "countries = list(confirmed_global.loc[:, 'Country/Region'])\n",
    "### (country, time, 3)\n",
    "out_mat = np.zeros((confirmed_global.shape[0], confirmed_global.shape[1]-4, 3))\n",
    "for i in range(confirmed_global.shape[0]):\n",
    "    tmp_country = confirmed_global.iloc[i, 1]\n",
    "    tmp_ts = confirmed_global.iloc[i, 4:].values\n",
    "    out_mat[countries.index(tmp_country), :, 0] = tmp_ts\n",
    "for i in range(deaths_global.shape[0]):\n",
    "    tmp_country = deaths_global.iloc[i, 1]\n",
    "    tmp_ts = deaths_global.iloc[i, 4:].values\n",
    "    out_mat[countries.index(tmp_country), :, 1] = tmp_ts\n",
    "for i in range(recovered_global.shape[0]):\n",
    "    tmp_country = recovered_global.iloc[i, 1]\n",
    "    tmp_ts = recovered_global.iloc[i, 4:].values\n",
    "    out_mat[countries.index(tmp_country), :, 2] = tmp_ts\n",
    "    \n",
    "print(out_mat.shape)\n",
    "np.save('covid19.npy', out_mat)\n",
    "    \n"
   ]
  },
  {
   "cell_type": "code",
   "execution_count": null,
   "metadata": {},
   "outputs": [],
   "source": []
  }
 ],
 "metadata": {
  "kernelspec": {
   "display_name": "Python 3",
   "language": "python",
   "name": "python3"
  },
  "language_info": {
   "codemirror_mode": {
    "name": "ipython",
    "version": 3
   },
   "file_extension": ".py",
   "mimetype": "text/x-python",
   "name": "python",
   "nbconvert_exporter": "python",
   "pygments_lexer": "ipython3",
   "version": "3.7.5"
  }
 },
 "nbformat": 4,
 "nbformat_minor": 2
}
