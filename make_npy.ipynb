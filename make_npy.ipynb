{
 "cells": [
  {
   "cell_type": "code",
   "execution_count": null,
   "metadata": {},
   "outputs": [],
   "source": [
    "import pandas as pd\n",
    "import numpy as np\n",
    "import torch\n",
    "\n",
    "confirmed_global = pd.read_csv('COVID-19/csse_covid_19_data/csse_covid_19_time_series/time_series_covid19_confirmed_global.csv')\n",
    "deaths_global = pd.read_csv('COVID-19/csse_covid_19_data/csse_covid_19_time_series/time_series_covid19_deaths_global.csv')\n",
    "recovered_global = pd.read_csv('COVID-19/csse_covid_19_data/csse_covid_19_time_series/time_series_covid19_recovered_global.csv')\n",
    "print(confirmed_global.shape, deaths_global.shape, recovered_global.shape)\n",
    "\n",
    "confirmed_global = confirmed_global.groupby(\"Country/Region\").sum()\n",
    "deaths_global = deaths_global.groupby(\"Country/Region\").sum()\n",
    "recovered_global = recovered_global.groupby(\"Country/Region\").sum()\n",
    "print(confirmed_global.shape, deaths_global.shape, recovered_global.shape)\n",
    "\n",
    "confirmed_global = confirmed_global.drop(columns=['Lat', 'Long'])\n",
    "deaths_global = deaths_global.drop(columns=['Lat', 'Long'])\n",
    "recovered_global = recovered_global.drop(columns=['Lat', 'Long'])\n",
    "confirmed_global = confirmed_global.sort_index()\n",
    "deaths_global = confirmed_global.loc[confirmed_global.index]\n",
    "recovered_global = recovered_global.loc[confirmed_global.index]\n",
    "confirmed_global = confirmed_global[confirmed_global.columns]\n",
    "deaths_global = deaths_global[confirmed_global.columns]\n",
    "recovered_global = recovered_global[confirmed_global.columns]\n",
    "out_mat = np.stack([confirmed_global.values, deaths_global.values, recovered_global.values])\n",
    "out_mat = torch.from_numpy(out_mat).to(torch.float32)\n",
    "out_mat = out_mat.permute(1, 2, 0).contiguous()\n",
    "print(out_mat.shape)\n",
    "\n",
    "torch.save(out_mat, \"covid19.pt\")"
   ]
  }
 ],
 "metadata": {
  "kernelspec": {
   "display_name": "Python 3",
   "language": "python",
   "name": "python3"
  },
  "language_info": {
   "codemirror_mode": {
    "name": "ipython",
    "version": 3
   },
   "file_extension": ".py",
   "mimetype": "text/x-python",
   "name": "python",
   "nbconvert_exporter": "python",
   "pygments_lexer": "ipython3",
   "version": "3.7.5"
  }
 },
 "nbformat": 4,
 "nbformat_minor": 2
}