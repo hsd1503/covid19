{
 "cells": [
  {
   "cell_type": "code",
   "execution_count": 26,
   "metadata": {},
   "outputs": [
    {
     "output_type": "error",
     "ename": "Error",
     "evalue": "Jupyter cannot be started. Error attempting to locate jupyter: Data Science libraries notebook and jupyter are not installed in interpreter Python 3.7.3 64-bit.",
     "traceback": [
      "Error: Jupyter cannot be started. Error attempting to locate jupyter: Data Science libraries notebook and jupyter are not installed in interpreter Python 3.7.3 64-bit.",
      "at C.startServer (/Users/shenda/.vscode/extensions/ms-python.python-2020.4.74986/out/client/extension.js:75:829553)",
      "at async C.createServer (/Users/shenda/.vscode/extensions/ms-python.python-2020.4.74986/out/client/extension.js:75:828996)",
      "at async C.ensureServerAndNotebookImpl (/Users/shenda/.vscode/extensions/ms-python.python-2020.4.74986/out/client/extension.js:1:863926)",
      "at async C.ensureServerAndNotebook (/Users/shenda/.vscode/extensions/ms-python.python-2020.4.74986/out/client/extension.js:1:863616)",
      "at async C.clearResult (/Users/shenda/.vscode/extensions/ms-python.python-2020.4.74986/out/client/extension.js:1:859683)",
      "at async C.reexecuteCell (/Users/shenda/.vscode/extensions/ms-python.python-2020.4.74986/out/client/extension.js:1:847953)",
      "at async C.reexecuteCells (/Users/shenda/.vscode/extensions/ms-python.python-2020.4.74986/out/client/extension.js:1:845120)"
     ]
    }
   ],
   "source": [
    "import pandas as pd\n",
    "import numpy as np\n",
    "import torch\n",
    "\n",
    "confirmed_global = pd.read_csv('COVID-19/csse_covid_19_data/csse_covid_19_time_series/time_series_covid19_confirmed_global.csv')\n",
    "deaths_global = pd.read_csv('COVID-19/csse_covid_19_data/csse_covid_19_time_series/time_series_covid19_deaths_global.csv')\n",
    "recovered_global = pd.read_csv('COVID-19/csse_covid_19_data/csse_covid_19_time_series/time_series_covid19_recovered_global.csv')\n",
    "print(confirmed_global.shape, deaths_global.shape, recovered_global.shape)\n",
    "\n",
    "confirmed_global = confirmed_global.groupby(\"Country/Region\").sum()\n",
    "deaths_global = deaths_global.groupby(\"Country/Region\").sum()\n",
    "recovered_global = recovered_global.groupby(\"Country/Region\").sum()\n",
    "print(confirmed_global.shape, deaths_global.shape, recovered_global.shape)\n",
    "\n",
    "confirmed_global = confirmed_global.drop(columns=['Lat', 'Long'])\n",
    "deaths_global = deaths_global.drop(columns=['Lat', 'Long'])\n",
    "recovered_global = recovered_global.drop(columns=['Lat', 'Long'])\n",
    "confirmed_global = confirmed_global.sort_index()\n",
    "deaths_global = confirmed_global.loc[confirmed_global.index]\n",
    "recovered_global = recovered_global.loc[confirmed_global.index]\n",
    "confirmed_global = confirmed_global[confirmed_global.columns]\n",
    "deaths_global = deaths_global[confirmed_global.columns]\n",
    "recovered_global = recovered_global[confirmed_global.columns]\n",
    "out_mat = np.stack([confirmed_global.values, deaths_global.values, recovered_global.values])\n",
    "out_mat = torch.from_numpy(out_mat).to(torch.float32)\n",
    "out_mat = out_mat.permute(1, 2, 0).contiguous()\n",
    "print(out_mat.shape)\n",
    "\n",
    "torch.save(out_mat, \"covid19.pt\")"
   ]
  },
  {
   "cell_type": "code",
   "execution_count": null,
   "metadata": {},
   "outputs": [],
   "source": []
  }
 ],
 "metadata": {
  "kernelspec": {
   "display_name": "Python 3",
   "language": "python",
   "name": "python3"
  },
  "language_info": {
   "codemirror_mode": {
    "name": "ipython",
    "version": 3
   },
   "file_extension": ".py",
   "mimetype": "text/x-python",
   "name": "python",
   "nbconvert_exporter": "python",
   "pygments_lexer": "ipython3",
   "version": "3.7.5"
  }
 },
 "nbformat": 4,
 "nbformat_minor": 2
}